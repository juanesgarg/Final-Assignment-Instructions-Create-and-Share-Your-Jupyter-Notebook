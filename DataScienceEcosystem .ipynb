{
 "cells": [
  {
   "cell_type": "markdown",
   "id": "ce637381-4f02-4263-b812-45f07a4b723b",
   "metadata": {},
   "source": [
    "<center>\n",
    "    <img src=\"https://cf-courses-data.s3.us.cloud-object-storage.appdomain.cloud/IBMDeveloperSkillsNetwork-DS0105EN-SkillsNetwork/labs/Module2/images/SN_web_lightmode.png\" width=\"300\" alt=\"cognitiveclass.ai logo\">\n",
    "</center>\n"
   ]
  },
  {
   "cell_type": "markdown",
   "id": "421f9025-285d-4a59-9862-2b8dc4d66c73",
   "metadata": {},
   "source": [
    "<h1>Data Science Tools and Ecosystem</h1>"
   ]
  },
  {
   "cell_type": "markdown",
   "id": "38bf120e-c2b0-4287-afe4-5ec9c5252b98",
   "metadata": {},
   "source": [
    "In this notebook, Data Science Tools and Ecosystem are summarized."
   ]
  },
  {
   "cell_type": "markdown",
   "id": "b08dec32-8822-43b3-945b-5b69ecec7917",
   "metadata": {},
   "source": [
    "<h2>Some of the popular languages that Data Scientists use are:</h2>\n",
    "1. python <br> \n",
    "2. R  <br> \n",
    "3. sql  <br> \n",
    "4. Java  \n"
   ]
  },
  {
   "cell_type": "markdown",
   "id": "2e2e4fb9-e8e7-4345-b195-558a2eee7762",
   "metadata": {},
   "source": [
    "<h2>Some of the commonly used libraries used by Data Scientists include:</h2> <br>\n",
    "1.Numpy<br>\n",
    "2.Pandas<br>\n",
    "3.Matplotlib"
   ]
  },
  {
   "cell_type": "markdown",
   "id": "fd7f8cb3-3020-4c3e-917d-9196fee8832e",
   "metadata": {},
   "source": [
    "| Data Science Tools |\n",
    "| -------------| \n",
    "| Jupyter Notebooks | \n",
    "| R studio | \n",
    "| Vs code | br>\n",
    "\n"
   ]
  },
  {
   "cell_type": "markdown",
   "id": "54597e08-6736-4b2a-9e0d-a559e32dfd4a",
   "metadata": {},
   "source": [
    "<h3>Below are a few examples of evaluating arithmetic expressions in Python</h3> "
   ]
  },
  {
   "cell_type": "code",
   "execution_count": 3,
   "id": "3bbe79e3-0b5b-45e0-92cf-badc93a02201",
   "metadata": {},
   "outputs": [
    {
     "data": {
      "text/plain": [
       "17"
      ]
     },
     "execution_count": 3,
     "metadata": {},
     "output_type": "execute_result"
    }
   ],
   "source": [
    "(3*4)+5\n",
    "#This a simple arithmetic expression to mutiply then add integers"
   ]
  },
  {
   "cell_type": "code",
   "execution_count": 4,
   "id": "4e6493c3-abea-4090-bf81-b5e1edfb5578",
   "metadata": {},
   "outputs": [
    {
     "data": {
      "text/plain": [
       "3.3333333333333335"
      ]
     },
     "execution_count": 4,
     "metadata": {},
     "output_type": "execute_result"
    }
   ],
   "source": [
    "200/60\n",
    "#This will convert 200 minutes to hours by diving by 60"
   ]
  },
  {
   "cell_type": "markdown",
   "id": "a9ad9bba-4fb0-4b5b-a95f-18eb11246e90",
   "metadata": {},
   "source": [
    "<h1>Objectives:</h1>\n",
    "<h6>Here's a list of popular lenguages for data science</h6> \n",
    "\n",
    "- python\n",
    "- java\n",
    "- R"
   ]
  },
  {
   "cell_type": "markdown",
   "id": "fa5c9f5d-0a14-4d0d-b2b1-f5186daaf38b",
   "metadata": {},
   "source": [
    "<h2>Juan Esteban García</h2>\n",
    "author"
   ]
  },
  {
   "cell_type": "code",
   "execution_count": null,
   "id": "7ffae396-197f-4726-8a5b-84a55c4df608",
   "metadata": {},
   "outputs": [],
   "source": []
  }
 ],
 "metadata": {
  "kernelspec": {
   "display_name": "Python 3 (ipykernel)",
   "language": "python",
   "name": "python3"
  },
  "language_info": {
   "codemirror_mode": {
    "name": "ipython",
    "version": 3
   },
   "file_extension": ".py",
   "mimetype": "text/x-python",
   "name": "python",
   "nbconvert_exporter": "python",
   "pygments_lexer": "ipython3",
   "version": "3.11.7"
  }
 },
 "nbformat": 4,
 "nbformat_minor": 5
}
